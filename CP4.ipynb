{
  "nbformat": 4,
  "nbformat_minor": 0,
  "metadata": {
    "colab": {
      "name": "CP4.ipynb",
      "provenance": [],
      "collapsed_sections": []
    },
    "kernelspec": {
      "name": "python3",
      "display_name": "Python 3"
    },
    "language_info": {
      "name": "python"
    }
  },
  "cells": [
    {
      "cell_type": "code",
      "metadata": {
        "id": "ekc9hXwRKOaD"
      },
      "source": [
        "check=[10,20,10,40,50,60,70]\n",
        "def target():\n",
        "  mylist =[]\n",
        "  N = int(input(\"Write the target: \"))\n",
        "  for i in sorted(check):\n",
        "    if (N>i):\n",
        "      mylist.append(i)\n",
        "  print('my list: ',mylist)\n",
        "  pairs=[]\n",
        "  for e,i in enumerate(mylist):\n",
        "    for j in sorted(mylist)[e+1:]:\n",
        "      pairs.append([i,j])\n",
        "  print('list of pairs: ',pairs)\n",
        "  for pair in (pairs): \n",
        "    if(sum(pair)==N):\n",
        "      indices=[]\n",
        "      if(pair[0]==pair[1]):\n",
        "        indices.append(check.index(pair[0]))\n",
        "        indices.append(check.index(pair[1],check.index(pair[0])))\n",
        "        return indices\n",
        "      else:\n",
        "        for j in pair:\n",
        "          indices.append(check.index(j))\n",
        "        return indices\n",
        "  return -1"
      ],
      "execution_count": null,
      "outputs": []
    },
    {
      "cell_type": "code",
      "metadata": {
        "colab": {
          "base_uri": "https://localhost:8080/"
        },
        "id": "k-6602eSPg9h",
        "outputId": "00e28750-4e7c-4a3e-bfe6-39e1e68da18c"
      },
      "source": [
        "mylist = [1,2,3]\n",
        "\n",
        "def subset(i):\n",
        "    Flist = []\n",
        "    for first in range(0,len(i)+1):\n",
        "        for last in range(first+1,len(i)+1):\n",
        "            templist = []\n",
        "            for index in range(first,last):\n",
        "                templist.append(i[index])\n",
        "            Flist.append(templist)\n",
        "    return Flist\n",
        "\n",
        "\n",
        "print(subset(mylist))"
      ],
      "execution_count": 4,
      "outputs": [
        {
          "output_type": "stream",
          "text": [
            "[[1], [1, 2], [1, 2, 3], [2], [2, 3], [3]]\n"
          ],
          "name": "stdout"
        }
      ]
    }
  ]
}